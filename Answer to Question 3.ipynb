{
 "cells": [
  {
   "cell_type": "code",
   "execution_count": 23,
   "id": "3d5f7671",
   "metadata": {},
   "outputs": [],
   "source": [
    "import pandas as pd\n",
    "import mysql.connector"
   ]
  },
  {
   "cell_type": "code",
   "execution_count": 45,
   "id": "e9c1352f",
   "metadata": {},
   "outputs": [],
   "source": [
    "# Connect to MySQL database\n",
    "conn = mysql.connector.connect(\n",
    "    host=\"localhost\",\n",
    "    user=\"tuhu\",\n",
    "    password=\"*Tuhu62519157\",\n",
    ")\n"
   ]
  },
  {
   "cell_type": "markdown",
   "id": "8470d544",
   "metadata": {},
   "source": [
    "#### Answer to question 2a"
   ]
  },
  {
   "cell_type": "code",
   "execution_count": 46,
   "id": "d254a0c2",
   "metadata": {},
   "outputs": [
    {
     "name": "stdout",
     "output_type": "stream",
     "text": [
      "Schema created successfully.\n",
      "Customers table created successfully.\n",
      "Data inserted into customers table successfully.\n",
      "Invoices table created successfully.\n",
      "Data inserted into invoices table successfully.\n",
      "Invoice lines table created successfully.\n",
      "Data inserted into invoice_lines table successfully.\n"
     ]
    }
   ],
   "source": [
    "# Create cursor\n",
    "cursor = conn.cursor()\n",
    "\n",
    "try:\n",
    "    # Create schema\n",
    "    cursor.execute(\"CREATE SCHEMA IF NOT EXISTS `Bookstore POS System`;\")\n",
    "    print(\"Schema created successfully.\")\n",
    "\n",
    "except mysql.connector.Error as e:\n",
    "    print(\"Error creating schema:\", e)\n",
    "\n",
    "try:\n",
    "    # Create customers table\n",
    "    cursor.execute(\"\"\"\n",
    "        CREATE TABLE IF NOT EXISTS `Bookstore POS System`.`customers` (\n",
    "            `id` INT NOT NULL AUTO_INCREMENT PRIMARY KEY,\n",
    "            `name` VARCHAR(255) NOT NULL,\n",
    "            `email` VARCHAR(255),\n",
    "            `tel` VARCHAR(15),\n",
    "            `created_at` DATETIME,\n",
    "            `updated_at` DATETIME\n",
    "        );\n",
    "    \"\"\")\n",
    "    print(\"Customers table created successfully.\")\n",
    "\n",
    "except mysql.connector.Error as e:\n",
    "    print(\"Error creating customers table:\", e)\n",
    "\n",
    "try:\n",
    "    # Insert data into customers table\n",
    "    cursor.execute(\"\"\"\n",
    "        INSERT INTO `Bookstore POS System`.`customers` (`name`, `email`, `tel`, `created_at`, `updated_at`) VALUES\n",
    "        ('Irfan Bakti', 'irfan88@example.com', '+60123456789', '2019-08-07 08:13:21', '2019-08-07 08:13:21'),\n",
    "        ('Jack Smmith', 'jack.smmith@acme.io', '+60132456781', '2019-08-07 08:13:21', '2019-08-07 08:13:21'),\n",
    "        ('Nazir', NULL, '+601185434012', '2019-08-07 08:13:21', '2019-08-07 08:13:21'),\n",
    "        ('Faiz Ma', 'faiz.ma@jholow.cn', '+6019772002', '2019-08-07 08:13:21', '2019-08-07 08:13:21'),\n",
    "        ('Isham Rais', 'isham@pmo.gov.my', '+60135482020', '2019-08-07 08:13:21', '2019-08-07 08:13:21'),\n",
    "        ('Shanon Teoh', 'shahnon.teoh@st.com.sg', NULL, '2019-08-07 08:13:21', '2019-08-07 08:13:21');\n",
    "    \"\"\")\n",
    "    print(\"Data inserted into customers table successfully.\")\n",
    "\n",
    "except mysql.connector.Error as e:\n",
    "    print(\"Error inserting data into customers table:\", e)\n",
    "\n",
    "try:\n",
    "    # Create invoices table\n",
    "    cursor.execute(\"\"\"\n",
    "        CREATE TABLE IF NOT EXISTS `Bookstore POS System`.`invoices` (\n",
    "            `id` INT NOT NULL AUTO_INCREMENT PRIMARY KEY,\n",
    "            `number` VARCHAR(255) NOT NULL,\n",
    "            `sub_total` DECIMAL(10,2),\n",
    "            `tax_total` DECIMAL(10,2),\n",
    "            `total` DECIMAL(10,2),\n",
    "            `customer_id` INT,\n",
    "            `created_at` DATETIME,\n",
    "            `updated_at` DATETIME,\n",
    "            FOREIGN KEY (`customer_id`) REFERENCES `Bookstore POS System`.`customers`(`id`)\n",
    "        );\n",
    "    \"\"\")\n",
    "    print(\"Invoices table created successfully.\")\n",
    "\n",
    "except mysql.connector.Error as e:\n",
    "    print(\"Error creating invoices table:\", e)\n",
    "\n",
    "try:\n",
    "    # Insert data into invoices table\n",
    "    cursor.execute(\"\"\"\n",
    "        INSERT INTO `Bookstore POS System`.`invoices` (`number`, `sub_total`, `tax_total`, `total`, `customer_id`, `created_at`, `updated_at`) VALUES\n",
    "        ('20190001', 30.00, 0.00, 30.00, 1, '2019-08-07 08:13:21', '2019-08-07 08:13:21'),\n",
    "        ('20190002', 150.00, 0.00, 150.00, 2, '2019-08-07 08:13:21', '2019-08-07 08:13:21'),\n",
    "        ('20190003', 30.00, 0.00, 30.00, 2, '2019-09-15 08:13:21', '2019-09-15 08:13:21'),\n",
    "        ('20190004', 55.00, 0.00, 55.00, 3, '2019-09-15 08:13:21', '2019-09-15 08:13:21'),\n",
    "        ('20190005', 450.00, 0.00, 0.00, 6, '2019-09-15 08:13:21', '2019-09-15 08:13:21');\n",
    "    \"\"\")\n",
    "    print(\"Data inserted into invoices table successfully.\")\n",
    "\n",
    "except mysql.connector.Error as e:\n",
    "    print(\"Error inserting data into invoices table:\", e)\n",
    "\n",
    "try:\n",
    "    # Create invoice_lines table\n",
    "    cursor.execute(\"\"\"\n",
    "        CREATE TABLE IF NOT EXISTS `Bookstore POS System`.`invoice_lines` (\n",
    "            `id` INT NOT NULL AUTO_INCREMENT PRIMARY KEY,\n",
    "            `description` VARCHAR(255) NOT NULL,\n",
    "            `unit_price` DECIMAL(10,2),\n",
    "            `quantity` INT,\n",
    "            `sub_total` DECIMAL(10,2),\n",
    "            `tax_total` DECIMAL(10,2),\n",
    "            `total` DECIMAL(10,2),\n",
    "            `tax_id` INT,\n",
    "            `sku_id` INT,\n",
    "            `invoice_id` INT,\n",
    "            FOREIGN KEY (`invoice_id`) REFERENCES `Bookstore POS System`.`invoices`(`id`)\n",
    "        );\n",
    "    \"\"\")\n",
    "    print(\"Invoice lines table created successfully.\")\n",
    "\n",
    "except mysql.connector.Error as e:\n",
    "    print(\"Error creating invoice_lines table:\", e)\n",
    "\n",
    "try:\n",
    "    # Insert data into invoice_lines table\n",
    "    cursor.execute(\"\"\"\n",
    "        INSERT INTO `Bookstore POS System`.`invoice_lines` (`description`, `unit_price`, `quantity`, `sub_total`, `tax_total`, `total`, `tax_id`, `sku_id`, `invoice_id`) VALUES\n",
    "        ('Book #1', 30.00, 1, 30.00, 0.00, 30.00, NULL, 1, 1),\n",
    "        ('Book #2', 25.00, 4, 100.00, 0.00, 100.00, NULL, 2, 2),\n",
    "        ('Book #3', 50.00, 1, 50.00, 0.00, 50.00, NULL, 3, 2),\n",
    "        ('Book #1', 30.00, 1, 30.00, 0.00, 30.00, NULL, 1, 3),\n",
    "        ('Book #1', 30.00, 1, 30.00, 0.00, 30.00, NULL, 1, 4),\n",
    "        ('Book #2', 25.00, 1, 25.00, 0.00, 25.00, NULL, 2, 4),\n",
    "        ('Book #1', 30.00, 5, 150.00, 0.00, 150.00, NULL, 1, 5),\n",
    "        ('Book #3', 50.00, 6, 300.00, 0.00, 300.00, NULL, 3, 5);\n",
    "    \"\"\")\n",
    "    print(\"Data inserted into invoice_lines table successfully.\")\n",
    "\n",
    "except mysql.connector.Error as e:\n",
    "    print(\"Error inserting data into invoice_lines table:\", e)\n"
   ]
  },
  {
   "cell_type": "markdown",
   "id": "fa19e57e",
   "metadata": {},
   "source": [
    "#### Answer to question 2b"
   ]
  },
  {
   "cell_type": "code",
   "execution_count": 47,
   "id": "f579da5b",
   "metadata": {},
   "outputs": [
    {
     "name": "stdout",
     "output_type": "stream",
     "text": [
      "Number of customers purchasing more than 5 books: 1\n"
     ]
    }
   ],
   "source": [
    "try:\n",
    "    # Query: Number of customers purchasing more than 5 books\n",
    "    cursor.execute(\"\"\"\n",
    "        SELECT COUNT(DISTINCT c.id) AS num_customers\n",
    "        FROM `Bookstore POS System`.`customers` c\n",
    "        INNER JOIN `Bookstore POS System`.`invoices` i ON c.id = i.customer_id\n",
    "        INNER JOIN `Bookstore POS System`.`invoice_lines` il ON i.id = il.invoice_id\n",
    "        GROUP BY c.id\n",
    "        HAVING SUM(il.quantity) > 5;\n",
    "    \"\"\")\n",
    "    result = cursor.fetchall()\n",
    "    print(\"Number of customers purchasing more than 5 books:\", result[0][0])\n",
    "\n",
    "except mysql.connector.Error as e:\n",
    "    print(\"Error with query for number of customers purchasing more than 5 books:\", e)\n"
   ]
  },
  {
   "cell_type": "markdown",
   "id": "6e5457e5",
   "metadata": {},
   "source": [
    "#### Answer to question 2c"
   ]
  },
  {
   "cell_type": "code",
   "execution_count": 48,
   "id": "edf22158",
   "metadata": {},
   "outputs": [
    {
     "name": "stdout",
     "output_type": "stream",
     "text": [
      "List of customers who never purchased anything:\n",
      "(4, 'Faiz Ma', 'faiz.ma@jholow.cn', '+6019772002', datetime.datetime(2019, 8, 7, 8, 13, 21), datetime.datetime(2019, 8, 7, 8, 13, 21))\n",
      "(5, 'Isham Rais', 'isham@pmo.gov.my', '+60135482020', datetime.datetime(2019, 8, 7, 8, 13, 21), datetime.datetime(2019, 8, 7, 8, 13, 21))\n"
     ]
    }
   ],
   "source": [
    "try:\n",
    "    # Query: List of customers who never purchased anything\n",
    "    cursor.execute(\"\"\"\n",
    "        SELECT *\n",
    "        FROM `Bookstore POS System`.`customers`\n",
    "        WHERE id NOT IN (\n",
    "        SELECT DISTINCT customer_id\n",
    "        FROM `Bookstore POS System`.`invoices`\n",
    "        );\n",
    "    \"\"\")\n",
    "    result = cursor.fetchall()\n",
    "    print(\"List of customers who never purchased anything:\")\n",
    "    for row in result:\n",
    "        print(row)\n",
    "\n",
    "except mysql.connector.Error as e:\n",
    "    print(\"Error with query for list of customers who never purchased anything:\", e)\n"
   ]
  },
  {
   "cell_type": "markdown",
   "id": "27e688f7",
   "metadata": {},
   "source": [
    "#### Answer to question 2d"
   ]
  },
  {
   "cell_type": "code",
   "execution_count": 49,
   "id": "41e35e77",
   "metadata": {},
   "outputs": [
    {
     "name": "stdout",
     "output_type": "stream",
     "text": [
      "List of books purchased with the users:\n",
      "(1, 'Irfan Bakti', 'Book #1')\n",
      "(2, 'Jack Smmith', 'Book #2')\n",
      "(2, 'Jack Smmith', 'Book #3')\n",
      "(2, 'Jack Smmith', 'Book #1')\n",
      "(3, 'Nazir', 'Book #1')\n",
      "(3, 'Nazir', 'Book #2')\n",
      "(6, 'Shanon Teoh', 'Book #1')\n",
      "(6, 'Shanon Teoh', 'Book #3')\n"
     ]
    }
   ],
   "source": [
    "try:\n",
    "    # Query: List of book purchased with the users\n",
    "    cursor.execute(\"\"\"\n",
    "        SELECT DISTINCT c.id AS customer_id, c.name AS customer_name, il.description AS book_description\n",
    "        FROM `Bookstore POS System`.`customers` c\n",
    "        INNER JOIN `Bookstore POS System`.`invoices` i ON c.id = i.customer_id\n",
    "        INNER JOIN `Bookstore POS System`.`invoice_lines` il ON i.id = il.invoice_id;\n",
    "    \"\"\")\n",
    "    result = cursor.fetchall()\n",
    "    print(\"List of books purchased with the users:\")\n",
    "    for row in result:\n",
    "        print(row)\n",
    "\n",
    "except mysql.connector.Error as e:\n",
    "    print(\"Error with query for list of books purchased with the users:\", e)\n",
    "\n",
    "finally:\n",
    "    # Close cursor and connection\n",
    "    if cursor:\n",
    "        cursor.close()\n",
    "    if conn:\n",
    "        conn.close()\n"
   ]
  }
 ],
 "metadata": {
  "kernelspec": {
   "display_name": "Python 3 (ipykernel)",
   "language": "python",
   "name": "python3"
  },
  "language_info": {
   "codemirror_mode": {
    "name": "ipython",
    "version": 3
   },
   "file_extension": ".py",
   "mimetype": "text/x-python",
   "name": "python",
   "nbconvert_exporter": "python",
   "pygments_lexer": "ipython3",
   "version": "3.9.7"
  }
 },
 "nbformat": 4,
 "nbformat_minor": 5
}
